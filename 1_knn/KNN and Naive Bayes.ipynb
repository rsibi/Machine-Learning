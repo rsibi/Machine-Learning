{
 "cells": [
  {
   "cell_type": "markdown",
   "metadata": {},
   "source": [
    "# K-Nearest Neighbors and Naive Bayes\n",
    "An implementation of the K-Nearest Neighbors and Naive Bayes algorithm for the digit recognition dataset. "
   ]
  },
  {
   "cell_type": "code",
   "execution_count": 2,
   "metadata": {
    "collapsed": false
   },
   "outputs": [
    {
     "name": "stderr",
     "output_type": "stream",
     "text": [
      "/home/sibi/acad/prog_tools/anaconda2/lib/python2.7/site-packages/matplotlib/font_manager.py:273: UserWarning: Matplotlib is building the font cache using fc-list. This may take a moment.\n",
      "  warnings.warn('Matplotlib is building the font cache using fc-list. This may take a moment.')\n"
     ]
    }
   ],
   "source": [
    "import pandas as pd\n",
    "import numpy as np\n",
    "import os\n",
    "%matplotlib inline"
   ]
  },
  {
   "cell_type": "markdown",
   "metadata": {},
   "source": [
    "## 1. Import Training Set\n",
    "Load each file and convert into a numpy vector (add it to a pandas dataframe).\n",
    "\n",
    "There will be 1024 features (since the size is 32x32) for each digit followed by the digit label. The digit's label can be included from the file name."
   ]
  },
  {
   "cell_type": "code",
   "execution_count": 3,
   "metadata": {
    "collapsed": false
   },
   "outputs": [],
   "source": [
    "\"\"\"Function to convert image to a vector\"\"\"\n",
    "def img2vector(filename):\n",
    "    returnVect = np.zeros((1,1024))\n",
    "    fr = open(filename)\n",
    "    for i in range(32):\n",
    "        lineStr = fr.readline()\n",
    "        for j in range(32):\n",
    "            returnVect[0,32*i+j] = int(lineStr[j])\n",
    "        \n",
    "    return returnVect"
   ]
  },
  {
   "cell_type": "markdown",
   "metadata": {},
   "source": [
    "### 1.a. Convert all files to a vector and create a dataframe\n",
    "\n",
    "Convert the training and testing data to numpy arrays and create a dataframe."
   ]
  },
  {
   "cell_type": "code",
   "execution_count": 4,
   "metadata": {
    "collapsed": false
   },
   "outputs": [],
   "source": [
    "\"\"\"Training data\"\"\"\n",
    "path = '/home/sibi/acad/mach_learn_with_networks/assignment1/digits/trainingDigits/'\n",
    "files = os.listdir(path)\n",
    "df_train = pd.DataFrame(columns = range(1024))\n",
    "i=0\n",
    "y = np.array([])\n",
    "for file in files:\n",
    "    df_train.loc[i]=np.transpose(img2vector(path+file)[0])\n",
    "    y = np.append(y,int(file[0]))\n",
    "    i+=1\n",
    "df_train[1024] = y\n",
    "df_train = df_train.astype(int)\n"
   ]
  },
  {
   "cell_type": "code",
   "execution_count": 5,
   "metadata": {
    "collapsed": true
   },
   "outputs": [],
   "source": [
    "\"\"\"Test data\"\"\"\n",
    "path = '/home/sibi/acad/mach_learn_with_networks/assignment1/digits/testDigits/'\n",
    "files = os.listdir(path)\n",
    "df_test = pd.DataFrame(columns = range(1024))\n",
    "i=0\n",
    "y = np.array([])\n",
    "for file in files:\n",
    "    df_test.loc[i]=np.transpose(img2vector(path+file)[0])\n",
    "    y = np.append(y,int(file[0]))\n",
    "    i+=1\n",
    "df_test[1024] = y\n",
    "df_test = df_test.astype(int)\n"
   ]
  },
  {
   "cell_type": "markdown",
   "metadata": {},
   "source": [
    "### 1.b. Show one sample from each as a binary image\n",
    "\n",
    "Pick one random binary text file and convert it to a binary image. Store the file."
   ]
  },
  {
   "cell_type": "code",
   "execution_count": 6,
   "metadata": {
    "collapsed": false
   },
   "outputs": [
    {
     "data": {
      "image/png": "[encoded data removed]",
      "text/plain": [
       "<matplotlib.figure.Figure at 0x7fe491d5c990>"
      ]
     },
     "metadata": {},
     "output_type": "display_data"
    }
   ],
   "source": [
    "import matplotlib.pyplot as plt\n",
    "import matplotlib.cm as cm\n",
    "import matplotlib.image as mpimg\n",
    "fig = plt.figure()\n",
    "num = 0\n",
    "for i in range(2):\n",
    "    for j in range(5):\n",
    "        ax = plt.subplot2grid((2,5), (i,j))\n",
    "        data = img2vector(\"/home/sibi/acad/mach_learn_with_networks/assignment1/digits/trainingDigits/\" + str(num) +\"_50.txt\")\n",
    "        data = data.reshape(32,32)\n",
    "        ax.set_xticklabels([])\n",
    "        ax.set_yticklabels([])\n",
    "        ax.imshow(data)\n",
    "        num +=1 \n",
    "fig.tight_layout()\n",
    "plt.show()\n"
   ]
  },
  {
   "cell_type": "markdown",
   "metadata": {},
   "source": [
    "## 2. K-Nearest Neighbor Classifier\n",
    "We train a knn classifier on the training set that we imported in the previous step. We then find its trianing error on a range of k-values from 1 to 10. We then also use it on the testing set to make predictions and check the performance."
   ]
  },
  {
   "cell_type": "markdown",
   "metadata": {},
   "source": [
    "### 2.a. Prepare data for KNN"
   ]
  },
  {
   "cell_type": "code",
   "execution_count": 7,
   "metadata": {
    "collapsed": true
   },
   "outputs": [],
   "source": [
    "from sklearn.neighbors import KNeighborsClassifier\n",
    "from sklearn import metrics"
   ]
  },
  {
   "cell_type": "code",
   "execution_count": 8,
   "metadata": {
    "collapsed": false
   },
   "outputs": [],
   "source": [
    "X_train = df_train.loc[:,0:1023]\n",
    "y_train = df_train.loc[:,1024]\n",
    "X_test = df_test.loc[:,0:1023]\n",
    "y_test = df_test.loc[:,1024]\n",
    "#print(X_train.shape)\n",
    "#print(y_train.shape)\n",
    "#print(X_test.shape)\n",
    "#print(y_test.shape)\n",
    "#print(type(y_train[0]))\n"
   ]
  },
  {
   "cell_type": "markdown",
   "metadata": {},
   "source": [
    "### 2.b. knn on the training data set"
   ]
  },
  {
   "cell_type": "code",
   "execution_count": 9,
   "metadata": {
    "collapsed": false
   },
   "outputs": [
    {
     "name": "stdout",
     "output_type": "stream",
     "text": [
      "1.0\n",
      "0.987073422958\n",
      "0.986556359876\n",
      "0.981385729059\n",
      "0.981902792141\n",
      "0.980351602896\n",
      "0.977766287487\n",
      "0.974146845915\n",
      "0.976215098242\n",
      "0.97569803516\n",
      "--------------------------\n",
      "Mean accuracy : 0.982109617373\n",
      "--------------------------\n",
      "Running time for this code\n",
      "CPU times: user 1min 22s, sys: 7.07 ms, total: 1min 22s\n",
      "Wall time: 1min 22s\n"
     ]
    }
   ],
   "source": [
    "%%time\n",
    "train_accuracies = []\n",
    "for n in range(1,11):\n",
    "    knn = KNeighborsClassifier(n_neighbors=n)\n",
    "    knn.fit(X_train,y_train)\n",
    "    y_pred = knn.predict(X_train)\n",
    "    acc = metrics.accuracy_score(y_train, y_pred)\n",
    "    print acc\n",
    "    train_accuracies.append(acc)\n",
    "KNN_train_accuracy = np.mean(train_accuracies)\n",
    "print(\"--------------------------\")\n",
    "print(\"Mean accuracy : {}\".format(KNN_train_accuracy))\n",
    "print(\"--------------------------\")\n",
    "print(\"Running time for this code\")"
   ]
  },
  {
   "cell_type": "code",
   "execution_count": 10,
   "metadata": {
    "collapsed": true
   },
   "outputs": [],
   "source": [
    "#print(\"Mean accuracy : {}\".format(np.mean(train_accuracies)))"
   ]
  },
  {
   "cell_type": "code",
   "execution_count": 14,
   "metadata": {
    "collapsed": false
   },
   "outputs": [
    {
     "data": {
      "image/png": "[encoded data removed]",
      "text/plain": [
       "<matplotlib.figure.Figure at 0x7fe486a50410>"
      ]
     },
     "metadata": {},
     "output_type": "display_data"
    }
   ],
   "source": [
    "plt.plot(range(1,11),train_accuracies)\n",
    "plt.ylim(0.95,1)\n",
    "plt.ylabel(\"Train Accuracies\")\n",
    "plt.xlabel(\"Value of k\")\n",
    "plt.show()"
   ]
  },
  {
   "cell_type": "markdown",
   "metadata": {},
   "source": [
    "### 2.b. knn on the testing data set"
   ]
  },
  {
   "cell_type": "code",
   "execution_count": 12,
   "metadata": {
    "collapsed": false
   },
   "outputs": [
    {
     "name": "stdout",
     "output_type": "stream",
     "text": [
      "0.987315010571\n",
      "0.976744186047\n",
      "0.987315010571\n",
      "0.983086680761\n",
      "0.980972515856\n",
      "0.976744186047\n",
      "0.975687103594\n",
      "0.975687103594\n",
      "0.974630021142\n",
      "0.975687103594\n",
      "--------------------------\n",
      "Mean accuracy : 0.979386892178\n",
      "--------------------------\n",
      "Running time for this code\n",
      "CPU times: user 40 s, sys: 4.08 ms, total: 40 s\n",
      "Wall time: 39.9 s\n"
     ]
    }
   ],
   "source": [
    "%%time\n",
    "test_accuracies = []\n",
    "for n in range(1,11):\n",
    "    knn = KNeighborsClassifier(n_neighbors=n)\n",
    "    knn.fit(X_train,y_train)\n",
    "    y_pred = knn.predict(X_test)\n",
    "    acc = metrics.accuracy_score(y_test, y_pred)\n",
    "    print acc\n",
    "    test_accuracies.append(acc)\n",
    "KNN_test_accuracy = np.mean(test_accuracies)\n",
    "print(\"--------------------------\")\n",
    "print(\"Mean accuracy : {}\".format(KNN_test_accuracy))\n",
    "print(\"--------------------------\")\n",
    "print(\"Running time for this code\")"
   ]
  },
  {
   "cell_type": "code",
   "execution_count": 13,
   "metadata": {
    "collapsed": true
   },
   "outputs": [],
   "source": [
    "#print(\"Mean accuracy : {}\".format(np.mean(test_accuracies)))"
   ]
  },
  {
   "cell_type": "code",
   "execution_count": 16,
   "metadata": {
    "collapsed": false,
    "scrolled": false
   },
   "outputs": [
    {
     "data": {
      "image/png": "[encoded data removed]",
      "text/plain": [
       "<matplotlib.figure.Figure at 0x7fe4865f6290>"
      ]
     },
     "metadata": {},
     "output_type": "display_data"
    },
    {
     "data": {
      "text/plain": [
       "0.97938689217758979"
      ]
     },
     "execution_count": 16,
     "metadata": {},
     "output_type": "execute_result"
    }
   ],
   "source": [
    "plt.plot(range(1,11),test_accuracies)\n",
    "plt.ylim(0.95,1)\n",
    "plt.ylabel(\"Test Accuracies\")\n",
    "plt.xlabel(\"Value of k\")\n",
    "plt.show()\n",
    "np.mean(test_accuracies)"
   ]
  },
  {
   "cell_type": "markdown",
   "metadata": {},
   "source": [
    "For the training error, k=1 will obviously give 100% accuracy because any point will find itself in the training data set and calculate the euclidean distance to be 0. And for cases when k is even, scikitlearn takes a random vote internally to decide the class. We can see that the accuracy is gradually decreasing as we increase the value of k.\n",
    "\n",
    "In the testing set, we get the best performance for k=1 and k=3 while other accuracies are lower than these. \n",
    "\n",
    "A value of k=3 works best for this data set."
   ]
  },
  {
   "cell_type": "markdown",
   "metadata": {},
   "source": [
    "## 3. Naive Bayes Classifier\n",
    "\n",
    "We use the training data set to learn the conditional probabilities and subsequently use it in predictions."
   ]
  },
  {
   "cell_type": "code",
   "execution_count": 17,
   "metadata": {
    "collapsed": false
   },
   "outputs": [],
   "source": [
    "from sklearn.naive_bayes import GaussianNB\n",
    "NB = GaussianNB()"
   ]
  },
  {
   "cell_type": "code",
   "execution_count": 18,
   "metadata": {
    "collapsed": false
   },
   "outputs": [
    {
     "name": "stdout",
     "output_type": "stream",
     "text": [
      "Training accuracy : 0.791623578077\n",
      "CPU times: user 221 ms, sys: 32 ms, total: 253 ms\n",
      "Wall time: 252 ms\n"
     ]
    }
   ],
   "source": [
    "%%time\n",
    "\"\"\"Training\"\"\"\n",
    "NB.fit(X_train,y_train)\n",
    "y_pred = NB.predict(X_train)\n",
    "#print(\"Number of mislabeled points out of a total %d points : %d\"% (X_train.shape[0],(y_test != y_pred).sum()))\n",
    "NB_train_accuracy = metrics.accuracy_score(y_train, y_pred)\n",
    "print(\"Training accuracy : {}\".format(NB_train_accuracy))"
   ]
  },
  {
   "cell_type": "code",
   "execution_count": 19,
   "metadata": {
    "collapsed": false
   },
   "outputs": [
    {
     "name": "stdout",
     "output_type": "stream",
     "text": [
      "Testing accuracy : 0.733615221987\n",
      "CPU times: user 127 ms, sys: 0 ns, total: 127 ms\n",
      "Wall time: 127 ms\n"
     ]
    }
   ],
   "source": [
    "%%time\n",
    "\"\"\"Testing\"\"\"\n",
    "NB.fit(X_train,y_train)\n",
    "y_pred = NB.predict(X_test)\n",
    "#print(\"Number of mislabeled points out of a total %d points : %d\"% (X_train.shape[0],(y_test != y_pred).sum()))\n",
    "NB_test_accuracy = metrics.accuracy_score(y_test, y_pred)\n",
    "print(\"Testing accuracy : {}\".format(NB_test_accuracy))"
   ]
  },
  {
   "cell_type": "markdown",
   "metadata": {},
   "source": [
    "### Ways to improve the performance of Naive Bayes Classifier\n",
    "\n",
    "1. By doing PCA - Reduction in the number of dimensions greatly improves the efficiency of NB.\n",
    "2. Removing redundant information - Similar to PCA. Naive Bayes Classifier does not really need that much data to model the concept. It needs just enough data to understand the probabilistic relationship of each feature.\n",
    "3. Feature Selection - Using probabilities of each feature from the training data set, we can potentially perform feature selection."
   ]
  },
  {
   "cell_type": "markdown",
   "metadata": {},
   "source": [
    "### Principal Component Analysis \n",
    "\n",
    "We apply PCA on the original data (both training and testing set). We then perform both KNN and NB training and evaluation to estimate how much of a difference PCA makes."
   ]
  },
  {
   "cell_type": "markdown",
   "metadata": {},
   "source": [
    "### Project onto a lower dimensional subspace\n",
    "A quesiton that arises when using PCA is how many components should we choose? We use the inbuilt function in scikitlearn \"explained\\_variance\\_ratio\\_\".This lets us look at how much variance is covered by each principal component. For simplicity sake, I have taken number of components to be 200 and it explains nearly 90% of the variance of data. This seems like a reasonable assumption to make.\n",
    "\n",
    "Note : Keep number of components, n\\_components=50 also gives a reasonably good performance of around 90%. "
   ]
  },
  {
   "cell_type": "code",
   "execution_count": 44,
   "metadata": {
    "collapsed": false
   },
   "outputs": [
    {
     "name": "stdout",
     "output_type": "stream",
     "text": [
      "[ 10.14  19.81  27.95  33.7   37.93  41.76  45.03  47.81  50.3   52.55\n",
      "  54.53  56.21  57.68  59.02  60.25  61.41  62.47  63.5   64.41  65.29\n",
      "  66.07  66.85  67.56  68.24  68.83  69.38  69.89  70.37  70.83  71.28\n",
      "  71.71  72.11  72.5   72.88  73.23  73.56  73.88  74.19  74.49  74.77\n",
      "  75.05  75.32  75.58  75.83  76.07  76.3   76.53  76.74  76.95  77.15\n",
      "  77.35  77.54  77.73  77.92  78.1   78.27  78.44  78.61  78.78  78.94\n",
      "  79.1   79.26  79.42  79.57  79.72  79.87  80.02  80.17  80.31  80.45\n",
      "  80.59  80.73  80.86  80.99  81.12  81.25  81.38  81.5   81.62  81.74\n",
      "  81.86  81.98  82.1   82.21  82.32  82.43  82.54  82.65  82.76  82.87\n",
      "  82.98  83.08  83.18  83.28  83.38  83.48  83.58  83.68  83.78  83.88\n",
      "  83.97  84.06  84.15  84.24  84.33  84.42  84.51  84.6   84.69  84.78\n",
      "  84.87  84.96  85.04  85.12  85.2   85.28  85.36  85.44  85.52  85.6\n",
      "  85.68  85.76  85.84  85.92  86.    86.08  86.16  86.24  86.32  86.39\n",
      "  86.46  86.53  86.6   86.67  86.74  86.81  86.88  86.95  87.02  87.09\n",
      "  87.16  87.23  87.3   87.37  87.44  87.51  87.58  87.65  87.72  87.78\n",
      "  87.84  87.9   87.96  88.02  88.08  88.14  88.2   88.26  88.32  88.38\n",
      "  88.44  88.5   88.56  88.62  88.68  88.74  88.8   88.86  88.92  88.98\n",
      "  89.04  89.1   89.16  89.22  89.27  89.32  89.37  89.42  89.47  89.52\n",
      "  89.57  89.62  89.67  89.72  89.77  89.82  89.87  89.92  89.97  90.02\n",
      "  90.07  90.12  90.17  90.22  90.27  90.32  90.37  90.42  90.47  90.52]\n"
     ]
    },
    {
     "data": {
      "text/plain": [
       "[<matplotlib.lines.Line2D at 0x7fe483d63c50>]"
      ]
     },
     "execution_count": 44,
     "metadata": {},
     "output_type": "execute_result"
    },
    {
     "data": {
      "image/png": "[encoded data removed]",
      "text/plain": [
       "<matplotlib.figure.Figure at 0x7fe4866ef2d0>"
      ]
     },
     "metadata": {},
     "output_type": "display_data"
    }
   ],
   "source": [
    "from sklearn.decomposition import PCA\n",
    "pca = PCA(n_components=200)\n",
    "pca.fit(X_train)\n",
    "var= pca.explained_variance_ratio_\n",
    "var1=np.cumsum(np.round(pca.explained_variance_ratio_, decimals=4)*100)\n",
    "print(var1)\n",
    "plt.plot(var1)"
   ]
  },
  {
   "cell_type": "code",
   "execution_count": 45,
   "metadata": {
    "collapsed": false
   },
   "outputs": [],
   "source": [
    "X_train_pca = pca.transform(X_train)\n",
    "X_test_pca = pca.transform(X_test)"
   ]
  },
  {
   "cell_type": "markdown",
   "metadata": {},
   "source": [
    "### KNN on the transformed data"
   ]
  },
  {
   "cell_type": "code",
   "execution_count": 46,
   "metadata": {
    "collapsed": false
   },
   "outputs": [
    {
     "name": "stdout",
     "output_type": "stream",
     "text": [
      "1.0\n",
      "0.988107549121\n",
      "0.986556359876\n",
      "0.984488107549\n",
      "0.984488107549\n",
      "0.979317476732\n",
      "0.97880041365\n",
      "0.976732161324\n",
      "0.978283350569\n",
      "0.976732161324\n",
      "--------------------------\n",
      "Mean accuracy : 0.983350568769\n",
      "--------------------------\n",
      "Running time for this code\n",
      "CPU times: user 12.8 s, sys: 4.04 ms, total: 12.8 s\n",
      "Wall time: 12.8 s\n"
     ]
    }
   ],
   "source": [
    "%%time\n",
    "train_accuracies_pca = []\n",
    "for n in range(1,11):\n",
    "    knn = KNeighborsClassifier(n_neighbors=n)\n",
    "    knn.fit(X_train_pca,y_train)\n",
    "    y_pred = knn.predict(X_train_pca)\n",
    "    acc = metrics.accuracy_score(y_train, y_pred)\n",
    "    print acc\n",
    "    train_accuracies_pca.append(acc)\n",
    "KNN_pca_train_accuracy = np.mean(train_accuracies_pca)\n",
    "print(\"--------------------------\")\n",
    "print(\"Mean accuracy : {}\".format(KNN_pca_train_accuracy))\n",
    "print(\"--------------------------\")\n",
    "print(\"Running time for this code\")\n"
   ]
  },
  {
   "cell_type": "code",
   "execution_count": 47,
   "metadata": {
    "collapsed": false
   },
   "outputs": [
    {
     "data": {
      "image/png": "[encoded data removed]",
      "text/plain": [
       "<matplotlib.figure.Figure at 0x7fe483d92090>"
      ]
     },
     "metadata": {},
     "output_type": "display_data"
    }
   ],
   "source": [
    "plt.plot(range(1,11),train_accuracies_pca)\n",
    "plt.ylim(0.90,1)\n",
    "plt.ylabel(\"Train Accuracies\")\n",
    "plt.xlabel(\"Value of k\")\n",
    "plt.show()"
   ]
  },
  {
   "cell_type": "code",
   "execution_count": 48,
   "metadata": {
    "collapsed": false
   },
   "outputs": [
    {
     "name": "stdout",
     "output_type": "stream",
     "text": [
      "0.986257928118\n",
      "0.978858350951\n",
      "0.989429175476\n",
      "0.982029598309\n",
      "0.982029598309\n",
      "0.978858350951\n",
      "0.975687103594\n",
      "0.976744186047\n",
      "0.973572938689\n",
      "0.975687103594\n",
      "--------------------------\n",
      "Mean accuracy : 0.979915433404\n",
      "--------------------------\n",
      "Running time for this code\n",
      "CPU times: user 6.68 s, sys: 1 µs, total: 6.68 s\n",
      "Wall time: 6.66 s\n"
     ]
    }
   ],
   "source": [
    "%%time\n",
    "test_accuracies_pca = []\n",
    "for n in range(1,11):\n",
    "    knn = KNeighborsClassifier(n_neighbors=n)\n",
    "    knn.fit(X_train_pca,y_train)\n",
    "    y_pred = knn.predict(X_test_pca)\n",
    "    acc = metrics.accuracy_score(y_test, y_pred)\n",
    "    print acc\n",
    "    test_accuracies_pca.append(acc)\n",
    "KNN_pca_test_accuracy = np.mean(test_accuracies_pca)\n",
    "print(\"--------------------------\")\n",
    "print(\"Mean accuracy : {}\".format(KNN_pca_test_accuracy))\n",
    "print(\"--------------------------\")\n",
    "print(\"Running time for this code\")\n"
   ]
  },
  {
   "cell_type": "code",
   "execution_count": 49,
   "metadata": {
    "collapsed": false
   },
   "outputs": [],
   "source": [
    "#print np.mean(test_accuracies_pca)"
   ]
  },
  {
   "cell_type": "code",
   "execution_count": 50,
   "metadata": {
    "collapsed": false
   },
   "outputs": [
    {
     "data": {
      "image/png": "[encoded data removed]",
      "text/plain": [
       "<matplotlib.figure.Figure at 0x7fe48419bd10>"
      ]
     },
     "metadata": {},
     "output_type": "display_data"
    }
   ],
   "source": [
    "plt.plot(range(1,11),test_accuracies_pca)\n",
    "plt.ylim(0.90,1)\n",
    "plt.ylabel(\"Test Accuracies\")\n",
    "plt.xlabel(\"Value of k\")\n",
    "plt.show()"
   ]
  },
  {
   "cell_type": "markdown",
   "metadata": {},
   "source": [
    "------------------------------------------------------------"
   ]
  },
  {
   "cell_type": "markdown",
   "metadata": {},
   "source": [
    "### Naive Bayes on the transformed data "
   ]
  },
  {
   "cell_type": "markdown",
   "metadata": {},
   "source": [
    "#### Training data"
   ]
  },
  {
   "cell_type": "code",
   "execution_count": 51,
   "metadata": {
    "collapsed": false
   },
   "outputs": [
    {
     "name": "stdout",
     "output_type": "stream",
     "text": [
      "Accuracy : 0.9632885212\n",
      "--------------------------\n",
      "Running time for this code\n",
      "CPU times: user 39.7 ms, sys: 0 ns, total: 39.7 ms\n",
      "Wall time: 38.9 ms\n"
     ]
    }
   ],
   "source": [
    "%%time\n",
    "NB.fit(X_train_pca,y_train)\n",
    "y_pred = NB.predict(X_train_pca)\n",
    "#print(\"Number of mislabeled points out of a total %d points : %d\"% (X_train.shape[0],(y_test != y_pred).sum()))\n",
    "NB_pca_train_accuracy = metrics.accuracy_score(y_train, y_pred)\n",
    "print(\"Accuracy : {}\".format(NB_pca_train_accuracy))\n",
    "print(\"--------------------------\")\n",
    "print(\"Running time for this code\")\n"
   ]
  },
  {
   "cell_type": "markdown",
   "metadata": {},
   "source": [
    "#### Test data"
   ]
  },
  {
   "cell_type": "code",
   "execution_count": 52,
   "metadata": {
    "collapsed": false
   },
   "outputs": [
    {
     "name": "stdout",
     "output_type": "stream",
     "text": [
      "Accuracy : 0.948202959831\n",
      "--------------------------\n",
      "Running time for this code\n",
      "CPU times: user 17.6 ms, sys: 3.9 ms, total: 21.5 ms\n",
      "Wall time: 21.1 ms\n"
     ]
    }
   ],
   "source": [
    "%%time\n",
    "NB.fit(X_train_pca,y_train)\n",
    "y_pred = NB.predict(X_test_pca)\n",
    "#print(\"Number of mislabeled points out of a total %d points : %d\"% (X_train.shape[0],(y_test != y_pred).sum()))\n",
    "NB_pca_test_accuracy = metrics.accuracy_score(y_test, y_pred)\n",
    "print(\"Accuracy : {}\".format(NB_pca_test_accuracy))\n",
    "print(\"--------------------------\")\n",
    "print(\"Running time for this code\")\n"
   ]
  },
  {
   "cell_type": "markdown",
   "metadata": {},
   "source": [
    "## 5. Conclusion"
   ]
  },
  {
   "cell_type": "markdown",
   "metadata": {},
   "source": [
    "We try and compare the performance of the two classifiers before and after applying PCA based on both their accuracies as well as their running times."
   ]
  },
  {
   "cell_type": "markdown",
   "metadata": {},
   "source": [
    "### 5.a. KNN and PCA (accuracies)\n",
    "As can be seen from the plot, there isn't much difference in the accuracies even after PCA has been applied. There is only a marginal increase in the mean training and testing accuracies for k ranging from 1 to 10."
   ]
  },
  {
   "cell_type": "code",
   "execution_count": 53,
   "metadata": {
    "collapsed": false
   },
   "outputs": [
    {
     "data": {
      "image/png": "[encoded data removed]",
      "text/plain": [
       "<matplotlib.figure.Figure at 0x7fe483f46d10>"
      ]
     },
     "metadata": {},
     "output_type": "display_data"
    }
   ],
   "source": [
    "fig = plt.figure()\n",
    "#training\n",
    "plt.tight_layout\n",
    "\n",
    "ax1 = fig.add_subplot(1,2,1)\n",
    "plt.bar([1,2],[KNN_train_accuracy, KNN_pca_train_accuracy], align = \"center\")\n",
    "plt.ylim(0.90,1)\n",
    "plt.ylabel(\"Accuracies\")\n",
    "plt.xlabel(\"KNN - training\")\n",
    "plt.xticks(range(1,3),[ \"KNN w/o PCA\", \"KNN with PCA\"])\n",
    "#plt.show()\n",
    "\n",
    "ax1 = fig.add_subplot(1,2,2)\n",
    "plt.bar([1,2],[KNN_test_accuracy, KNN_pca_test_accuracy], align = \"center\")\n",
    "plt.ylim(0.90,1)\n",
    "#plt.ylabel(\"Testing Accuracies\")\n",
    "plt.xlabel(\"KNN - testing\")\n",
    "plt.xticks(range(1,3),[ \"KNN w/o PCA\", \"KNN with PCA\"])\n",
    "plt.show()\n",
    "\n"
   ]
  },
  {
   "cell_type": "markdown",
   "metadata": {},
   "source": [
    "### 5.b. KNN and PCA (time taken)\n",
    "Even though not much change in accuracy was noticed, we could (as expected) notice a huge difference in the training and testing times for KNN. This is essentially because we are reducing the amount of training (comparisons to find euclidean distance) to be done in the reduced subspace. \n"
   ]
  },
  {
   "cell_type": "code",
   "execution_count": 54,
   "metadata": {
    "collapsed": false
   },
   "outputs": [
    {
     "data": {
      "image/png": "[encoded data removed]",
      "text/plain": [
       "<matplotlib.figure.Figure at 0x7fe484113e10>"
      ]
     },
     "metadata": {},
     "output_type": "display_data"
    }
   ],
   "source": [
    "fig = plt.figure()\n",
    "#training\n",
    "plt.tight_layout\n",
    "\n",
    "ax1 = fig.add_subplot(1,2,1)\n",
    "plt.bar([1,2],[80, 14], align = \"center\")\n",
    "plt.ylim(0,100)\n",
    "plt.ylabel(\"Time taken (in seconds)\")\n",
    "plt.xlabel(\"KNN - training\")\n",
    "plt.xticks(range(1,3),[ \"KNN w/o PCA\", \"KNN with PCA\"])\n",
    "#plt.show()\n",
    "\n",
    "ax1 = fig.add_subplot(1,2,2)\n",
    "plt.bar([1,2],[40, 7], align = \"center\")\n",
    "plt.ylim(0,100)\n",
    "#plt.ylabel(\"Testing Accuracies\")\n",
    "plt.xlabel(\"KNN - testing\")\n",
    "plt.xticks(range(1,3),[ \"KNN w/o PCA\", \"KNN with PCA\"])\n",
    "plt.show()\n",
    "\n"
   ]
  },
  {
   "cell_type": "markdown",
   "metadata": {},
   "source": [
    "### 5.c. NB and PCA (accuracies)\n",
    "\n",
    "Unlike KNN, we could easily observe a considerable amount of increase in the accuracies of Naive Bayes classifier after applying PCA on the data. There was approximately over 20% increase in the testing accuracy. This is expected because we are removing a lot of dimensions by doing PCA. "
   ]
  },
  {
   "cell_type": "code",
   "execution_count": 55,
   "metadata": {
    "collapsed": false,
    "scrolled": true
   },
   "outputs": [
    {
     "data": {
      "image/png": "[encoded data removed]",
      "text/plain": [
       "<matplotlib.figure.Figure at 0x7fe48419bb50>"
      ]
     },
     "metadata": {},
     "output_type": "display_data"
    }
   ],
   "source": [
    "fig = plt.figure()\n",
    "#training\n",
    "plt.tight_layout\n",
    "\n",
    "ax1 = fig.add_subplot(1,2,1)\n",
    "plt.bar([1,2],[NB_train_accuracy, NB_pca_train_accuracy], align = \"center\")\n",
    "plt.ylim(0.5,1)\n",
    "plt.ylabel(\"Accuracies\")\n",
    "plt.xlabel(\"Naive Bayes - training\")\n",
    "plt.xticks(range(1,3),[ \"NB w/o PCA\", \"NB with PCA\"])\n",
    "#plt.show()\n",
    "\n",
    "ax1 = fig.add_subplot(1,2,2)\n",
    "plt.bar([1,2],[NB_test_accuracy, NB_pca_test_accuracy], align = \"center\")\n",
    "plt.ylim(0.5,1)\n",
    "#plt.ylabel(\"Testing Accuracies\")\n",
    "plt.xlabel(\"Naive Bayes - testing\")\n",
    "plt.xticks(range(1,3),[ \"NB w/o PCA\", \"NB with PCA\"])\n",
    "plt.show()\n",
    "\n"
   ]
  },
  {
   "cell_type": "markdown",
   "metadata": {},
   "source": [
    "In conclusion, we can say that even for an application such as digit recognition with simple binary images of small size (32x32), there are 1024 feature and we are dealing with a feature space that has 1024 dimensions. Even by manual observing a few of the binary images, we can guess that there are several positions in the image which are highly correlated. PCA helps us in reducing the number of dimensions thereby helping increase the accuracy of the Naive Bayes classifier and reduce the runtime of both classifiers. "
   ]
  },
  {
   "cell_type": "code",
   "execution_count": null,
   "metadata": {
    "collapsed": true
   },
   "outputs": [],
   "source": []
  },
  {
   "cell_type": "code",
   "execution_count": null,
   "metadata": {
    "collapsed": true
   },
   "outputs": [],
   "source": []
  },
  {
   "cell_type": "code",
   "execution_count": null,
   "metadata": {
    "collapsed": true
   },
   "outputs": [],
   "source": []
  }
 ],
 "metadata": {
  "kernelspec": {
   "display_name": "Python [Root]",
   "language": "python",
   "name": "Python [Root]"
  },
  "language_info": {
   "codemirror_mode": {
    "name": "ipython",
    "version": 2
   },
   "file_extension": ".py",
   "mimetype": "text/x-python",
   "name": "python",
   "nbconvert_exporter": "python",
   "pygments_lexer": "ipython2",
   "version": "2.7.12"
  }
 },
 "nbformat": 4,
 "nbformat_minor": 0
}
