{
 "cells": [
  {
   "cell_type": "code",
   "execution_count": 4,
   "metadata": {
    "collapsed": false
   },
   "outputs": [],
   "source": [
    "import pandas as pd\n",
    "import numpy as np\n",
    "import os"
   ]
  },
  {
   "cell_type": "markdown",
   "metadata": {},
   "source": [
    "### Import Training Set\n",
    "Load each file and convert into a numpy vector (add it to a pandas dataframe).\n",
    "\n",
    "There will be 1024 features (since the size is 32x32) for each digit followed by the digit label. The digit's label can be included from the file name."
   ]
  },
  {
   "cell_type": "code",
   "execution_count": 5,
   "metadata": {
    "collapsed": false
   },
   "outputs": [],
   "source": [
    "\"\"\"Function to convert image to a vector\"\"\"\n",
    "def img2vector(filename):\n",
    "    returnVect = np.zeros((1,1024))\n",
    "    fr = open(filename)\n",
    "    for i in range(32):\n",
    "        lineStr = fr.readline()\n",
    "        for j in range(32):\n",
    "            returnVect[0,32*i+j] = int(lineStr[j])\n",
    "        \n",
    "    return returnVect\n"
   ]
  },
  {
   "cell_type": "markdown",
   "metadata": {},
   "source": [
    "### Convert all files to a vector and create a dataframe\n",
    "\n",
    "Convert the training and testing data to numpy arrays and create a dataframe."
   ]
  },
  {
   "cell_type": "code",
   "execution_count": 8,
   "metadata": {
    "collapsed": false
   },
   "outputs": [],
   "source": [
    "#Training data\n",
    "path = '/home/sibi/acad/mach_learn_with_networks/assignment1/digits/trainingDigits/'\n",
    "files = os.listdir(path)\n",
    "df_train = pd.DataFrame(columns = range(1024))\n",
    "i=0\n",
    "y = np.array([])\n",
    "for file in files:\n",
    "    df_train.loc[i]=np.transpose(img2vector(path+file)[0])\n",
    "    y = np.append(y,int(file[0]))\n",
    "    i+=1\n",
    "df_train[1024] = y\n",
    "df_train = df_train.astype(int)\n"
   ]
  },
  {
   "cell_type": "code",
   "execution_count": 9,
   "metadata": {
    "collapsed": true
   },
   "outputs": [],
   "source": [
    "#Test data\n",
    "path = '/home/sibi/acad/mach_learn_with_networks/assignment1/digits/testDigits/'\n",
    "files = os.listdir(path)\n",
    "df_test = pd.DataFrame(columns = range(1024))\n",
    "i=0\n",
    "y = np.array([])\n",
    "for file in files:\n",
    "    df_test.loc[i]=np.transpose(img2vector(path+file)[0])\n",
    "    y = np.append(y,int(file[0]))\n",
    "    i+=1\n",
    "df_test[1024] = y\n",
    "df_test = df_test.astype(int)\n"
   ]
  },
  {
   "cell_type": "markdown",
   "metadata": {},
   "source": [
    "### Show one sample from each as a binary image\n",
    "\n",
    "Pick one random binary text file and convert it to a binary image. Store the file."
   ]
  },
  {
   "cell_type": "code",
   "execution_count": 19,
   "metadata": {
    "collapsed": false
   },
   "outputs": [],
   "source": [
    "%matplotlib inline\n",
    "import matplotlib.pyplot as plt\n",
    "import matplotlib.cm as cm\n",
    "import matplotlib.image as mpimg\n",
    "#data = img2vector(\"/home/sibi/acad/mach_learn_with_networks/assignment1/digits/trainingDigits/7_91.txt\")\n"
   ]
  },
  {
   "cell_type": "markdown",
   "metadata": {},
   "source": [
    "### Prepare data for KNN"
   ]
  },
  {
   "cell_type": "code",
   "execution_count": 13,
   "metadata": {
    "collapsed": true
   },
   "outputs": [],
   "source": [
    "from sklearn.neighbors import KNeighborsClassifier\n",
    "from sklearn import metrics"
   ]
  },
  {
   "cell_type": "code",
   "execution_count": 14,
   "metadata": {
    "collapsed": false
   },
   "outputs": [],
   "source": [
    "X_train = df_train.loc[:,0:1023]\n",
    "y_train = df_train.loc[:,1024]\n",
    "X_test = df_test.loc[:,0:1023]\n",
    "y_test = df_test.loc[:,1024]\n",
    "#print(X_train.shape)\n",
    "#print(y_train.shape)\n",
    "#print(X_test.shape)\n",
    "#print(y_test.shape)\n",
    "#print(type(y_train[0]))\n"
   ]
  },
  {
   "cell_type": "markdown",
   "metadata": {},
   "source": [
    "#### Training data set"
   ]
  },
  {
   "cell_type": "code",
   "execution_count": 33,
   "metadata": {
    "collapsed": false
   },
   "outputs": [],
   "source": [
    "train_accuracies = []\n",
    "for n in range(1,11):\n",
    "    knn = KNeighborsClassifier(n_neighbors=n)\n",
    "    knn.fit(X_train,y_train)\n",
    "    y_pred = knn.predict(X_train)\n",
    "    train_accuracies.append(metrics.accuracy_score(y_train, y_pred))"
   ]
  },
  {
   "cell_type": "markdown",
   "metadata": {},
   "source": [
    "#### Testing data set"
   ]
  },
  {
   "cell_type": "code",
   "execution_count": 16,
   "metadata": {
    "collapsed": false
   },
   "outputs": [],
   "source": [
    "test_accuracies = []\n",
    "for n in range(1,11):\n",
    "    knn = KNeighborsClassifier(n_neighbors=n)\n",
    "    knn.fit(X_train,y_train)\n",
    "    y_pred = knn.predict(X_test)\n",
    "    test_accuracies.append(metrics.accuracy_score(y_test, y_pred))"
   ]
  },
  {
   "cell_type": "markdown",
   "metadata": {},
   "source": [
    "#### Plotting"
   ]
  },
  {
   "cell_type": "code",
   "execution_count": 35,
   "metadata": {
    "collapsed": false
   },
   "outputs": [
    {
     "data": {
      "image/png": "[encoded data removed]",
      "text/plain": [
       "<matplotlib.figure.Figure at 0x7fe22013a310>"
      ]
     },
     "metadata": {},
     "output_type": "display_data"
    }
   ],
   "source": [
    "plt.bar(range(1,11),train_accuracies)\n",
    "plt.ylim(0.95,1)\n",
    "plt.ylabel(\"Train Accuracies\")\n",
    "plt.xlabel(\"Value of k\")\n",
    "plt.show()"
   ]
  },
  {
   "cell_type": "code",
   "execution_count": 34,
   "metadata": {
    "collapsed": false,
    "scrolled": false
   },
   "outputs": [
    {
     "data": {
      "image/png": "[encoded data removed]",
      "text/plain": [
       "<matplotlib.figure.Figure at 0x7fe2201f0b50>"
      ]
     },
     "metadata": {},
     "output_type": "display_data"
    }
   ],
   "source": [
    "plt.bar(range(1,11),test_accuracies)\n",
    "plt.ylim(0.95,1)\n",
    "plt.ylabel(\"Test Accuracies\")\n",
    "plt.xlabel(\"Value of k\")\n",
    "plt.show()"
   ]
  },
  {
   "cell_type": "markdown",
   "metadata": {},
   "source": [
    "------------------------------------------------------------"
   ]
  }
 ],
 "metadata": {
  "kernelspec": {
   "display_name": "Python [Root]",
   "language": "python",
   "name": "Python [Root]"
  },
  "language_info": {
   "codemirror_mode": {
    "name": "ipython",
    "version": 2
   },
   "file_extension": ".py",
   "mimetype": "text/x-python",
   "name": "python",
   "nbconvert_exporter": "python",
   "pygments_lexer": "ipython2",
   "version": "2.7.12"
  }
 },
 "nbformat": 4,
 "nbformat_minor": 0
}
