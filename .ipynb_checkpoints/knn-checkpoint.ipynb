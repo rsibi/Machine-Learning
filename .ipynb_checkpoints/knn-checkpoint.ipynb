{
 "cells": [
  {
   "cell_type": "code",
   "execution_count": 1,
   "metadata": {
    "collapsed": false
   },
   "outputs": [],
   "source": [
    "import pandas as pd\n",
    "import numpy as np\n",
    "import os"
   ]
  },
  {
   "cell_type": "markdown",
   "metadata": {},
   "source": [
    "### Import Training Set\n",
    "Load each file and convert into a numpy vector (add it to a pandas dataframe).\n",
    "\n",
    "There will be 1024 features (since the size is 32x32) for each digit followed by the digit label. The digit's label can be included from the file name."
   ]
  },
  {
   "cell_type": "code",
   "execution_count": 45,
   "metadata": {
    "collapsed": false
   },
   "outputs": [],
   "source": [
    "\"\"\"Function to convert image to a vector\"\"\"\n",
    "def img2vector(filename):\n",
    "    returnVect = np.zeros((1,1024))\n",
    "    fr = open(filename)\n",
    "    for i in range(32):\n",
    "        lineStr = fr.readline()\n",
    "        for j in range(32):\n",
    "            returnVect[0,32*i+j] = int(lineStr[j])\n",
    "        \n",
    "    return returnVect\n"
   ]
  },
  {
   "cell_type": "code",
   "execution_count": 51,
   "metadata": {
    "collapsed": false
   },
   "outputs": [
    {
     "name": "stdout",
     "output_type": "stream",
     "text": [
      "1\n"
     ]
    }
   ],
   "source": [
    "path = '/home/sibi/acad/mach_learn_with_networks/assignment1/digits/trainingDigits/'\n",
    "l = range(1024)\n",
    "np.vec = img2vector('/home/sibi/acad/mach_learn_with_networks/assignment1/digits/trainingDigits/9_21.txt')\n",
    "print(len(vec))"
   ]
  },
  {
   "cell_type": "markdown",
   "metadata": {},
   "source": [
    "### Convert all files to a vector and create a dataframe\n",
    "\n",
    "Convert the training and testing data to numpy arrays and create a dataframe."
   ]
  },
  {
   "cell_type": "code",
   "execution_count": 150,
   "metadata": {
    "collapsed": false
   },
   "outputs": [],
   "source": [
    "#Training data\n",
    "path = '/home/sibi/acad/mach_learn_with_networks/assignment1/digits/trainingDigits/'\n",
    "files = os.listdir(path)\n",
    "df_train = pd.DataFrame(columns = range(1024))\n",
    "i=0\n",
    "y = np.array([])\n",
    "for file in files:\n",
    "    df_train.loc[i]=np.transpose(img2vector(path+file)[0])\n",
    "    y = np.append(y,file[0])\n",
    "    i+=1\n",
    "df_train[1024] = y\n",
    "df = df.astype(int)\n"
   ]
  },
  {
   "cell_type": "code",
   "execution_count": 135,
   "metadata": {
    "collapsed": true
   },
   "outputs": [],
   "source": [
    "#Test data\n",
    "path = '/home/sibi/acad/mach_learn_with_networks/assignment1/digits/testDigits/'\n",
    "files = os.listdir(path)\n",
    "df_test = pd.DataFrame(columns = range(1024))\n",
    "i=0\n",
    "y = np.array([])\n",
    "for file in files:\n",
    "    df_test.loc[i]=np.transpose(img2vector(path+file)[0])\n",
    "    y = np.append(y,file[0])\n",
    "    i+=1\n",
    "df_test[1024] = y\n",
    "df_test = df_test.astype(int)\n"
   ]
  },
  {
   "cell_type": "code",
   "execution_count": 202,
   "metadata": {
    "collapsed": false
   },
   "outputs": [
    {
     "name": "stdout",
     "output_type": "stream",
     "text": [
      "<type 'numpy.int64'>\n"
     ]
    }
   ],
   "source": [
    "#print(df_train)"
   ]
  },
  {
   "cell_type": "markdown",
   "metadata": {},
   "source": [
    "### Show one sample from each as a binary image\n",
    "\n",
    "Pick one random binary text file and convert it to a binary image. Store the file."
   ]
  },
  {
   "cell_type": "code",
   "execution_count": 134,
   "metadata": {
    "collapsed": false
   },
   "outputs": [],
   "source": [
    "import matplotlib.pyplot as plt\n",
    "import matplotlib.cm as cm\n",
    "import matplotlib.image as mpimg\n",
    "data = img2vector(\"/home/sibi/acad/mach_learn_with_networks/assignment1/digits/trainingDigits/7_91.txt\")\n",
    "plt.imsave('filename.png', np.array(data).reshape(32,32), cmap=cm.gray)"
   ]
  },
  {
   "cell_type": "markdown",
   "metadata": {},
   "source": [
    "### Prepare data for KNN"
   ]
  },
  {
   "cell_type": "code",
   "execution_count": 96,
   "metadata": {
    "collapsed": true
   },
   "outputs": [],
   "source": [
    "from sklearn.neighbors import KNeighborsClassifier\n",
    "from sklearn import metrics"
   ]
  },
  {
   "cell_type": "code",
   "execution_count": 153,
   "metadata": {
    "collapsed": false
   },
   "outputs": [
    {
     "name": "stdout",
     "output_type": "stream",
     "text": [
      "(1934, 1024)\n",
      "(1934,)\n",
      "(946, 1024)\n",
      "(946,)\n"
     ]
    }
   ],
   "source": [
    "X_train = df_train.loc[:,0:1023]\n",
    "y_train = df_train.loc[:,1024]\n",
    "X_test = df_test.loc[:,0:1023]\n",
    "y_test = df_test.loc[:,1024]\n",
    "print(X_train.shape)\n",
    "print(y_train.shape)\n",
    "print(X_test.shape)\n",
    "print(y_test.shape)"
   ]
  },
  {
   "cell_type": "code",
   "execution_count": 197,
   "metadata": {
    "collapsed": false
   },
   "outputs": [
    {
     "name": "stdout",
     "output_type": "stream",
     "text": [
      "0.0\n"
     ]
    }
   ],
   "source": [
    "knn = KNeighborsClassifier(n_neighbors=5)\n",
    "knn.fit(X_train,y_train)\n",
    "y_pred = knn.predict(X_test)\n",
    "print(metrics.accuracy_score(y_test, y_pred))\n"
   ]
  },
  {
   "cell_type": "code",
   "execution_count": 198,
   "metadata": {
    "collapsed": false
   },
   "outputs": [
    {
     "name": "stdout",
     "output_type": "stream",
     "text": [
      "1     6\n",
      "2     4\n",
      "3     8\n",
      "4     6\n",
      "5     4\n",
      "6     0\n",
      "7     9\n",
      "8     8\n",
      "9     9\n",
      "10    3\n",
      "Name: 1024, dtype: int64\n"
     ]
    }
   ],
   "source": [
    "print  y_test.loc[1:10,]"
   ]
  },
  {
   "cell_type": "code",
   "execution_count": 199,
   "metadata": {
    "collapsed": false
   },
   "outputs": [
    {
     "name": "stdout",
     "output_type": "stream",
     "text": [
      "['6' '4' '8' '6' '4' '0' '9' '8' '9' '3']\n"
     ]
    }
   ],
   "source": [
    "print y_pred[1:11]"
   ]
  }
 ],
 "metadata": {
  "kernelspec": {
   "display_name": "Python [Root]",
   "language": "python",
   "name": "Python [Root]"
  },
  "language_info": {
   "codemirror_mode": {
    "name": "ipython",
    "version": 2
   },
   "file_extension": ".py",
   "mimetype": "text/x-python",
   "name": "python",
   "nbconvert_exporter": "python",
   "pygments_lexer": "ipython2",
   "version": "2.7.12"
  }
 },
 "nbformat": 4,
 "nbformat_minor": 0
}
