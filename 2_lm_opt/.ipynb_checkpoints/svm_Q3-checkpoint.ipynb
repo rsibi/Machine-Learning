{
 "cells": [
  {
   "cell_type": "markdown",
   "metadata": {},
   "source": [
    "# Data preprocessing steps"
   ]
  },
  {
   "cell_type": "code",
   "execution_count": 48,
   "metadata": {
    "collapsed": false
   },
   "outputs": [],
   "source": [
    "import numpy as np\n",
    "import math\n",
    "\n",
    "test_data = np.loadtxt('/home/sibi/acad/mach_learn_with_networks/assignment/2_lm_opt/bclass/bclass/bclass-test',delimiter='\\t')\n",
    "train_data = np.loadtxt('/home/sibi/acad/mach_learn_with_networks/assignment/2_lm_opt/bclass/bclass/bclass-train',delimiter='\\t')\n",
    "train_data = np.delete(train_data,2,1)\n",
    "test_data = np.delete(test_data,2,1)\n",
    "\n",
    "X_train = train_data[:,1:]\n",
    "y_train = train_data[:,0]\n",
    "X_train.shape\n",
    "y_train.shape\n",
    "\n",
    "X_test = test_data[:,1:]\n",
    "y_test = test_data[:,0]"
   ]
  },
  {
   "cell_type": "code",
   "execution_count": 49,
   "metadata": {
    "collapsed": true
   },
   "outputs": [],
   "source": [
    "from sklearn.svm import SVC\n",
    "from sklearn.metrics import accuracy_score"
   ]
  },
  {
   "cell_type": "markdown",
   "metadata": {},
   "source": [
    "# Linear SVM"
   ]
  },
  {
   "cell_type": "code",
   "execution_count": 46,
   "metadata": {
    "collapsed": false
   },
   "outputs": [],
   "source": [
    "C_vals = [0.25, 0.5, 1, 2, 4]\n",
    "train_acc = []\n",
    "test_acc = []\n",
    "sup_vec = []\n",
    "for C in C_vals:\n",
    "    clf = SVC(C= C, kernel='linear')\n",
    "    clf.fit(X_train, y_train)\n",
    "    y_pred = clf.predict(X_train)\n",
    "    tr_acc = accuracy_score(y_train,y_pred)\n",
    "    train_acc.append(tr_acc)\n",
    "    \n",
    "    y_pred = clf.predict(X_test)\n",
    "    te_acc = accuracy_score(y_test,y_pred)\n",
    "    test_acc.append(te_acc)\n",
    "    sup_vec.append(clf.n_support_ )"
   ]
  },
  {
   "cell_type": "code",
   "execution_count": 47,
   "metadata": {
    "collapsed": false
   },
   "outputs": [
    {
     "name": "stdout",
     "output_type": "stream",
     "text": [
      "[0.93000000000000005, 0.94999999999999996, 0.94999999999999996, 0.96499999999999997, 0.96499999999999997]\n",
      "[0.84210526315789469, 0.84210526315789469, 0.84210526315789469, 0.84210526315789469, 0.82894736842105265]\n",
      "[array([42, 36], dtype=int32), array([36, 34], dtype=int32), array([34, 30], dtype=int32), array([32, 23], dtype=int32), array([29, 20], dtype=int32)]\n"
     ]
    }
   ],
   "source": [
    "print train_acc\n",
    "print test_acc\n",
    "print sup_vec"
   ]
  },
  {
   "cell_type": "code",
   "execution_count": 64,
   "metadata": {
    "collapsed": false
   },
   "outputs": [
    {
     "name": "stdout",
     "output_type": "stream",
     "text": [
      "[78, 70, 64, 55, 49]\n"
     ]
    }
   ],
   "source": [
    "total_sup_vec = []\n",
    "for i in xrange(5):\n",
    "    total_sup_vec.append(sup_vec[i][0] + sup_vec[i][1])\n",
    "print total_sup_vec"
   ]
  },
  {
   "cell_type": "code",
   "execution_count": 51,
   "metadata": {
    "collapsed": false
   },
   "outputs": [
    {
     "name": "stderr",
     "output_type": "stream",
     "text": [
      "/home/sibi/acad/prog_tools/anaconda2/lib/python2.7/site-packages/matplotlib/font_manager.py:273: UserWarning: Matplotlib is building the font cache using fc-list. This may take a moment.\n",
      "  warnings.warn('Matplotlib is building the font cache using fc-list. This may take a moment.')\n"
     ]
    }
   ],
   "source": [
    "import matplotlib.pyplot as plt\n",
    "%matplotlib inline"
   ]
  },
  {
   "cell_type": "code",
   "execution_count": 89,
   "metadata": {
    "collapsed": false
   },
   "outputs": [
    {
     "data": {
      "image/png": "[encoded data removed]",
      "text/plain": [
       "<matplotlib.figure.Figure at 0x7feea16f5c90>"
      ]
     },
     "metadata": {},
     "output_type": "display_data"
    }
   ],
   "source": [
    "fig = plt.figure(figsize=(10, 8))\n",
    "plt.style.use('ggplot')\n",
    "\n",
    "ind = np.arange(5)\n",
    "width = 0.35\n",
    "ind = np.arange(5)\n",
    "\n",
    "ax1 = fig.add_subplot(1,1,1)\n",
    "rects1 = ax1.bar(ind, train_acc, width, color='#fc8d62',label='Training')\n",
    "ax1.set_ylabel(\"Accuracy\")\n",
    "ax1.set_xlabel(\"C Values\")\n",
    "ax1.set_xticks(ind+width)\n",
    "ax1.set_xticklabels(C_vals)\n",
    "\n",
    "rects2 = ax1.bar(ind+width, test_acc, width, color='#66c2a5',label='Testing')\n",
    "ax1.set_title(\"Training vs Testing error (Number of support vectors on top)\")\n",
    "# ax1.hist(taus,train_accs,label=\"Training Accuracy\",)\n",
    "# ax1.bar( test_accs,label=\"Training Accuracy\")\n",
    "# ax1.set_ylabel(\"Accuracy\")\n",
    "# ax1.set_xlabel(\"Tau\")\n",
    "# ax2.set_xticklabels(('0','0.01', '0.05', '0.1', '1', '5'))\n",
    "\n",
    "rects = ax1.patches\n",
    "labels = total_sup_vec\n",
    "for rect, label in zip(rects, labels):\n",
    "    height = rect.get_height()\n",
    "    ax1.text(rect.get_x() + rect.get_width()/2, height, label, ha='center', va='bottom')\n",
    "\n",
    "ax1.legend(loc = 4)\n",
    "\n",
    "plt.show()"
   ]
  },
  {
   "cell_type": "code",
   "execution_count": 100,
   "metadata": {
    "collapsed": false
   },
   "outputs": [],
   "source": [
    "#  class sklearn.svm.SVC(C=1.0, kernel='rbf', degree=3, gamma='auto', \n",
    "#                        coef0=0.0, shrinking=True, probability=False, tol=0.001, \n",
    "#                        cache_size=200, class_weight=None, verbose=False, max_iter=-1, \n",
    "#                        decision_function_shape=None, random_state=None)[source]\n",
    "\n",
    "C_vals = [0.25, 0.5, 1, 2, 4]\n",
    "Gamma_vals = [0.25, 0.5, 1, 2, 4]\n",
    "train_acc = []\n",
    "test_acc = []\n",
    "sup_vec = []\n",
    "c_train_acc = []\n",
    "c_test_acc = []\n",
    "c_sup_vec = []\n",
    "for C in C_vals:\n",
    "    train_acc = []\n",
    "    test_acc = []\n",
    "    sup_vec = []\n",
    "    for G in Gamma_vals:\n",
    "        clf = SVC(C=C,kernel='rbf', gamma = G)\n",
    "        clf.fit(X_train, y_train)\n",
    "        y_pred = clf.predict(X_train)\n",
    "        tr_acc = accuracy_score(y_train,y_pred)\n",
    "        train_acc.append(tr_acc)\n",
    "\n",
    "        y_pred = clf.predict(X_test)\n",
    "        te_acc = accuracy_score(y_test,y_pred)\n",
    "        test_acc.append(te_acc)\n",
    "        sup_vec.append(clf.n_support_[0] + (clf.n_support_[1] ))\n",
    "    c_train_acc.append(train_acc)\n",
    "    c_test_acc.append(test_acc)\n",
    "    c_sup_vec.append(sup_vec)"
   ]
  },
  {
   "cell_type": "code",
   "execution_count": 108,
   "metadata": {
    "collapsed": false
   },
   "outputs": [
    {
     "data": {
      "text/plain": [
       "[[0.96499999999999997, 0.97499999999999998, 0.66500000000000004, 0.63, 0.63],\n",
       " [0.98499999999999999, 0.98499999999999999, 0.995, 1.0, 0.65500000000000003],\n",
       " [0.98999999999999999, 0.995, 0.995, 1.0, 1.0],\n",
       " [0.995, 0.995, 1.0, 1.0, 1.0],\n",
       " [0.995, 1.0, 1.0, 1.0, 1.0]]"
      ]
     },
     "execution_count": 108,
     "metadata": {},
     "output_type": "execute_result"
    }
   ],
   "source": [
    "c_train_acc"
   ]
  },
  {
   "cell_type": "code",
   "execution_count": 121,
   "metadata": {
    "collapsed": true
   },
   "outputs": [],
   "source": [
    "def plot_c_gamma_graph(ax1,train_accs, test_accs,sup_vec, C):\n",
    "    ax1 = fig.add_subplot(1,3,1)\n",
    "\n",
    "    rects1 = ax1.bar(ind, train_accs, width, color='#fc8d62',label='Training')\n",
    "    \n",
    "    ax1.set_ylabel(\"Accuracy\")\n",
    "    ax1.set_xlabel(\"Gamma Values\")\n",
    "    ax1.set_xticks(ind+width)\n",
    "    ax1.set_xticklabels(Gamma_vals)\n",
    "\n",
    "    rects2 = ax1.bar(ind+width, test_accs, width, color='#66c2a5',label='Testing')\n",
    "    title = \"Training vs Testing Error for C = \" + str(C)\n",
    "    ax1.set_title(title)\n",
    "    ax1.set_ylim(0,1.1)\n",
    "\n",
    "    rects = ax1.patches\n",
    "    labels = sup_vec\n",
    "    for rect, label in zip(rects, labels):\n",
    "        height = rect.get_height()\n",
    "        ax1.text(rect.get_x() + rect.get_width()/2, height, label, ha='center', va='bottom')\n",
    "\n",
    "    ax1.legend(loc = 1)"
   ]
  },
  {
   "cell_type": "code",
   "execution_count": 119,
   "metadata": {
    "collapsed": false
   },
   "outputs": [
    {
     "data": {
      "image/png": "[encoded data removed]",
      "text/plain": [
       "<matplotlib.figure.Figure at 0x7feea0b34750>"
      ]
     },
     "metadata": {},
     "output_type": "display_data"
    }
   ],
   "source": [
    "fig = plt.figure(figsize=(10, 8))\n",
    "plt.style.use('ggplot')\n",
    "\n",
    "ind = np.arange(5)\n",
    "width = 0.35\n",
    "\n",
    "plot_c_gamma_graph(ax1, c_train_acc[1],c_test_acc[1],c_sup_vec[0],C=C_vals[0])\n",
    "plt.show()"
   ]
  }
 ],
 "metadata": {
  "kernelspec": {
   "display_name": "Python [Root]",
   "language": "python",
   "name": "Python [Root]"
  },
  "language_info": {
   "codemirror_mode": {
    "name": "ipython",
    "version": 2
   },
   "file_extension": ".py",
   "mimetype": "text/x-python",
   "name": "python",
   "nbconvert_exporter": "python",
   "pygments_lexer": "ipython2",
   "version": "2.7.12"
  }
 },
 "nbformat": 4,
 "nbformat_minor": 0
}
