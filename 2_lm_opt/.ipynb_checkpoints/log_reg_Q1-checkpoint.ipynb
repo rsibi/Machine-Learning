{
 "cells": [
  {
   "cell_type": "code",
   "execution_count": 145,
   "metadata": {
    "collapsed": false
   },
   "outputs": [],
   "source": [
    "import numpy as np\n",
    "import pandas as pd\n",
    "import matplotlib.pyplot as plt\n",
    "import math\n",
    "from sklearn import metrics\n",
    "%matplotlib inline"
   ]
  },
  {
   "cell_type": "code",
   "execution_count": 2,
   "metadata": {
    "collapsed": false
   },
   "outputs": [],
   "source": [
    "df_train = pd.read_table('/home/sibi/acad/mach_learn_with_networks/assignment/2_lm_opt/bclass/bclass/bclass-train',delimiter='\\t',header=None)\n",
    "df_test = pd.read_table('/home/sibi/acad/mach_learn_with_networks/assignment/2_lm_opt/bclass/bclass/bclass-test',delimiter='\\t',header=None)"
   ]
  },
  {
   "cell_type": "code",
   "execution_count": 122,
   "metadata": {
    "collapsed": false
   },
   "outputs": [],
   "source": [
    "#Converting -1 to 0\n",
    "df_train.head()\n",
    "df_train.loc[df_train[0] == -1,0] = 0\n",
    "df_test.loc[df_test[0] == -1,0] = 0\n"
   ]
  },
  {
   "cell_type": "code",
   "execution_count": 102,
   "metadata": {
    "collapsed": false
   },
   "outputs": [],
   "source": [
    "#Splitting as features and labels\n",
    "X_train = df_train.loc[:,1:]\n",
    "y_train = df_train.loc[:,0]\n",
    "X_test = df_test.loc[:,1:]\n",
    "y_test = df_test.loc[:,0]"
   ]
  },
  {
   "cell_type": "code",
   "execution_count": 7,
   "metadata": {
    "collapsed": false
   },
   "outputs": [],
   "source": [
    "from sklearn import metrics, preprocessing\n",
    "from sklearn.linear_model import LogisticRegression\n",
    "from sklearn.model_selection import learning_curve"
   ]
  },
  {
   "cell_type": "code",
   "execution_count": 123,
   "metadata": {
    "collapsed": false
   },
   "outputs": [],
   "source": [
    "# X_train_norm_l1 = preprocessing.normalize(X_train, norm='l1')\n",
    "# X_train_norm_l2 = preprocessing.normalize(X_train, norm='l2')\n",
    "# X_test_norm_l1 = preprocessing.normalize(X_test, norm='l1')\n",
    "# X_test_norm_l2 = preprocessing.normalize(X_test, norm='l2')"
   ]
  },
  {
   "cell_type": "code",
   "execution_count": 109,
   "metadata": {
    "collapsed": false
   },
   "outputs": [],
   "source": [
    "def logistic_func(theta,x):\n",
    "    return float(1) / (1 + math.e**(-x.dot(theta)))"
   ]
  },
  {
   "cell_type": "code",
   "execution_count": 95,
   "metadata": {
    "collapsed": true
   },
   "outputs": [],
   "source": [
    "\n",
    "def log_gradient(theta, x, y):\n",
    "    first_calc = logistic_func(theta, x) - np.squeeze(y)\n",
    "    final_calc = first_calc.T.dot(x)\n",
    "    return final_calc"
   ]
  },
  {
   "cell_type": "code",
   "execution_count": 96,
   "metadata": {
    "collapsed": false
   },
   "outputs": [],
   "source": [
    "\n",
    "def cost_func(theta, x, y):\n",
    "    log_func_v = logistic_func(theta,x)\n",
    "    y = np.squeeze(y)\n",
    "    step1 = y * np.log(log_func_v)\n",
    "    step2 = (1-y) * np.log(1 - log_func_v)\n",
    "    final = -step1 - step2\n",
    "    return np.mean(final)"
   ]
  },
  {
   "cell_type": "code",
   "execution_count": 128,
   "metadata": {
    "collapsed": true
   },
   "outputs": [],
   "source": [
    "def pred_values(theta, X, hard=True):\n",
    "    #normalize\n",
    "    #X = (X - np.mean(X, axis=0)) / np.std(X, axis=0)\n",
    "    pred_prob = logistic_func(theta, X)\n",
    "    pred_value = np.where(pred_prob >= .5, 1, 0)\n",
    "    if hard:\n",
    "        return pred_value\n",
    "    return pred_prob"
   ]
  },
  {
   "cell_type": "code",
   "execution_count": 181,
   "metadata": {
    "collapsed": false
   },
   "outputs": [],
   "source": [
    "def grad_desc(theta_values, X_train, y_train, X_test, y_test, lr=.001, converge_change=.001):\n",
    "    #normalize\n",
    "    #X = (X - np.mean(X, axis=0)) / np.std(X, axis=0)\n",
    "   \n",
    "    #setup cost iter\n",
    "    cost_iter = []\n",
    "    train_pred_acc = []\n",
    "    test_pred_acc = []\n",
    "    cost = cost_func(theta_values, X_train, y_train)\n",
    "    train_acc = metrics.accuracy_score(y_train, pred_values(theta_values, X_train))\n",
    "    test_acc = metrics.accuracy_score(y_test, pred_values(theta_values, X_test))\n",
    "    \n",
    "    cost_iter.append([0, cost])\n",
    "    train_pred_acc.append([0,train_acc])\n",
    "    test_pred_acc.append([0,test_acc])\n",
    "    change_cost = 1\n",
    "    i = 1\n",
    "    \n",
    "    while(change_cost > converge_change):\n",
    "        old_cost = cost\n",
    "        theta_values = theta_values - (lr * log_gradient(theta_values, X_train, y_train))\n",
    "        cost = cost_func(theta_values, X_train, y_train)\n",
    "        train_acc = metrics.accuracy_score(y_train, pred_values(theta_values, X_train))\n",
    "        test_acc = metrics.accuracy_score(y_test, pred_values(theta_values, X_test))\n",
    "\n",
    "        cost_iter.append([i, cost])\n",
    "        train_pred_acc.append([i, train_acc])\n",
    "        test_pred_acc.append([i,test_acc])\n",
    "        change_cost = old_cost - cost\n",
    "        i+=1\n",
    "        \n",
    "    return theta_values, np.array(cost_iter), np.array(pred_acc), np.array(train_acc)"
   ]
  },
  {
   "cell_type": "code",
   "execution_count": 141,
   "metadata": {
    "collapsed": false
   },
   "outputs": [],
   "source": [
    "X_train_m = X_train.as_matrix()\n",
    "y_train_m = y_train.as_matrix()\n",
    "X_test_m = X_test.as_matrix()\n",
    "y_test_m = y_test.as_matrix()"
   ]
  },
  {
   "cell_type": "code",
   "execution_count": 182,
   "metadata": {
    "collapsed": false
   },
   "outputs": [
    {
     "ename": "AttributeError",
     "evalue": "'list' object has no attribute 'appen'",
     "output_type": "error",
     "traceback": [
      "\u001b[1;31m---------------------------------------------------------------------------\u001b[0m",
      "\u001b[1;31mAttributeError\u001b[0m                            Traceback (most recent call last)",
      "\u001b[1;32m<ipython-input-182-12da1782c019>\u001b[0m in \u001b[0;36m<module>\u001b[1;34m()\u001b[0m\n\u001b[0;32m      1\u001b[0m \u001b[0mshape\u001b[0m \u001b[1;33m=\u001b[0m \u001b[0mX_train_m\u001b[0m\u001b[1;33m.\u001b[0m\u001b[0mshape\u001b[0m\u001b[1;33m[\u001b[0m\u001b[1;36m1\u001b[0m\u001b[1;33m]\u001b[0m\u001b[1;33m\u001b[0m\u001b[0m\n\u001b[0;32m      2\u001b[0m \u001b[0mbetas\u001b[0m \u001b[1;33m=\u001b[0m \u001b[0mnp\u001b[0m\u001b[1;33m.\u001b[0m\u001b[0mzeros\u001b[0m\u001b[1;33m(\u001b[0m\u001b[0mshape\u001b[0m\u001b[1;33m)\u001b[0m\u001b[1;33m\u001b[0m\u001b[0m\n\u001b[1;32m----> 3\u001b[1;33m \u001b[0mfitted_values\u001b[0m\u001b[1;33m,\u001b[0m \u001b[0mcost_iter\u001b[0m\u001b[1;33m,\u001b[0m \u001b[0mpred_accuracy\u001b[0m \u001b[1;33m=\u001b[0m \u001b[0mgrad_desc\u001b[0m\u001b[1;33m(\u001b[0m\u001b[0mbetas\u001b[0m\u001b[1;33m,\u001b[0m \u001b[0mX_train_m\u001b[0m\u001b[1;33m,\u001b[0m \u001b[0my_train_m\u001b[0m\u001b[1;33m,\u001b[0m\u001b[0mX_test_m\u001b[0m\u001b[1;33m,\u001b[0m \u001b[0my_test_m\u001b[0m\u001b[1;33m)\u001b[0m\u001b[1;33m\u001b[0m\u001b[0m\n\u001b[0m\u001b[0;32m      4\u001b[0m \u001b[1;31m# print(fitted_values)\u001b[0m\u001b[1;33m\u001b[0m\u001b[1;33m\u001b[0m\u001b[0m\n\u001b[0;32m      5\u001b[0m \u001b[1;31m# print(pred_accuracy)\u001b[0m\u001b[1;33m\u001b[0m\u001b[1;33m\u001b[0m\u001b[0m\n",
      "\u001b[1;32m<ipython-input-181-bc71763f9758>\u001b[0m in \u001b[0;36mgrad_desc\u001b[1;34m(theta_values, X_train, y_train, X_test, y_test, lr, converge_change)\u001b[0m\n\u001b[0;32m     26\u001b[0m         \u001b[0mcost_iter\u001b[0m\u001b[1;33m.\u001b[0m\u001b[0mappend\u001b[0m\u001b[1;33m(\u001b[0m\u001b[1;33m[\u001b[0m\u001b[0mi\u001b[0m\u001b[1;33m,\u001b[0m \u001b[0mcost\u001b[0m\u001b[1;33m]\u001b[0m\u001b[1;33m)\u001b[0m\u001b[1;33m\u001b[0m\u001b[0m\n\u001b[0;32m     27\u001b[0m         \u001b[0mtrain_pred_acc\u001b[0m\u001b[1;33m.\u001b[0m\u001b[0mappend\u001b[0m\u001b[1;33m(\u001b[0m\u001b[1;33m[\u001b[0m\u001b[0mi\u001b[0m\u001b[1;33m,\u001b[0m \u001b[0mtrain_acc\u001b[0m\u001b[1;33m]\u001b[0m\u001b[1;33m)\u001b[0m\u001b[1;33m\u001b[0m\u001b[0m\n\u001b[1;32m---> 28\u001b[1;33m         \u001b[0mtest_pred_acc\u001b[0m\u001b[1;33m.\u001b[0m\u001b[0mappen\u001b[0m\u001b[1;33m(\u001b[0m\u001b[1;33m[\u001b[0m\u001b[0mi\u001b[0m\u001b[1;33m,\u001b[0m\u001b[0mtest_acc\u001b[0m\u001b[1;33m]\u001b[0m\u001b[1;33m)\u001b[0m\u001b[1;33m\u001b[0m\u001b[0m\n\u001b[0m\u001b[0;32m     29\u001b[0m         \u001b[0mchange_cost\u001b[0m \u001b[1;33m=\u001b[0m \u001b[0mold_cost\u001b[0m \u001b[1;33m-\u001b[0m \u001b[0mcost\u001b[0m\u001b[1;33m\u001b[0m\u001b[0m\n\u001b[0;32m     30\u001b[0m         \u001b[0mi\u001b[0m\u001b[1;33m+=\u001b[0m\u001b[1;36m1\u001b[0m\u001b[1;33m\u001b[0m\u001b[0m\n",
      "\u001b[1;31mAttributeError\u001b[0m: 'list' object has no attribute 'appen'"
     ]
    }
   ],
   "source": [
    "shape = X_train_m.shape[1]\n",
    "betas = np.zeros(shape)\n",
    "fitted_values, cost_iter, pred_accuracy = grad_desc(betas, X_train_m, y_train_m,X_test_m, y_test_m)\n",
    "# print(fitted_values)\n",
    "# print(pred_accuracy)\n",
    "# print(cost_iter)"
   ]
  },
  {
   "cell_type": "code",
   "execution_count": 167,
   "metadata": {
    "collapsed": false
   },
   "outputs": [
    {
     "data": {
      "image/png": "[encoded data removed]",
      "text/plain": [
       "<matplotlib.figure.Figure at 0x7f3b775966d0>"
      ]
     },
     "metadata": {},
     "output_type": "display_data"
    }
   ],
   "source": [
    "fig = plt.figure(figsize=(10, 8))\n",
    "plt.style.use('ggplot')\n",
    "plt.plot(cost_iter[:,0], cost_iter[:,1])\n",
    "plt.plot(pred_accuracy[:,0], pred_accuracy[:,1])\n",
    "plt.ylabel(\"Cost\")\n",
    "plt.xlabel(\"Iteration\")\n",
    "plt.ylim(0,1)\n",
    "plt.show()"
   ]
  },
  {
   "cell_type": "code",
   "execution_count": null,
   "metadata": {
    "collapsed": true
   },
   "outputs": [],
   "source": []
  }
 ],
 "metadata": {
  "kernelspec": {
   "display_name": "Python [Root]",
   "language": "python",
   "name": "Python [Root]"
  },
  "language_info": {
   "codemirror_mode": {
    "name": "ipython",
    "version": 2
   },
   "file_extension": ".py",
   "mimetype": "text/x-python",
   "name": "python",
   "nbconvert_exporter": "python",
   "pygments_lexer": "ipython2",
   "version": "2.7.12"
  }
 },
 "nbformat": 4,
 "nbformat_minor": 0
}
