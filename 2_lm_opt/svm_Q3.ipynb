{
 "cells": [
  {
   "cell_type": "code",
   "execution_count": 15,
   "metadata": {
    "collapsed": false
   },
   "outputs": [],
   "source": [
    "import numpy as np\n",
    "import math\n",
    "\n",
    "test_data = np.loadtxt('/home/sibi/acad/mach_learn_with_networks/assignment/2_lm_opt/bclass/bclass/bclass-test',delimiter='\\t')\n",
    "train_data = np.loadtxt('/home/sibi/acad/mach_learn_with_networks/assignment/2_lm_opt/bclass/bclass/bclass-train',delimiter='\\t')\n",
    "train_data = np.delete(train_data,2,1)\n",
    "test_data = np.delete(test_data,2,1)\n",
    "\n",
    "X_train = train_data[:,1:]\n",
    "y_train = train_data[:,0]\n",
    "X_train.shape\n",
    "y_train.shape\n",
    "\n",
    "X_test = test_data[:,1:]\n",
    "y_test = test_data[:,0]"
   ]
  },
  {
   "cell_type": "code",
   "execution_count": 16,
   "metadata": {
    "collapsed": true
   },
   "outputs": [],
   "source": [
    "from sklearn.svm import SVC\n",
    "from sklearn.metrics import accuracy_score"
   ]
  },
  {
   "cell_type": "code",
   "execution_count": 28,
   "metadata": {
    "collapsed": false
   },
   "outputs": [],
   "source": [
    "#  class sklearn.svm.SVC(C=1.0, kernel='rbf', degree=3, gamma='auto', \n",
    "#                        coef0=0.0, shrinking=True, probability=False, tol=0.001, \n",
    "#                        cache_size=200, class_weight=None, verbose=False, max_iter=-1, \n",
    "#                        decision_function_shape=None, random_state=None)[source]\n",
    "\n",
    "C_vals = [0.25, 0.5, 1, 2, 4]\n",
    "train_acc = []\n",
    "test_acc = []\n",
    "sup_vec = []\n",
    "for C in C_vals:\n",
    "    clf = SVC(C= C, kernel='linear')\n",
    "    clf.fit(X_train, y_train)\n",
    "    y_pred = clf.predict(X_train)\n",
    "    tr_acc = accuracy_score(y_train,y_pred)\n",
    "    train_acc.append(tr_acc)\n",
    "    \n",
    "    y_pred = clf.predict(X_test)\n",
    "    te_acc = accuracy_score(y_test,y_pred)\n",
    "    test_acc.append(te_acc)\n",
    "    sup_vec.append(clf.n_support_ )"
   ]
  },
  {
   "cell_type": "code",
   "execution_count": 29,
   "metadata": {
    "collapsed": false
   },
   "outputs": [
    {
     "name": "stdout",
     "output_type": "stream",
     "text": [
      "[0.93000000000000005, 0.94999999999999996, 0.94999999999999996, 0.96499999999999997, 0.96499999999999997]\n",
      "[0.84210526315789469, 0.84210526315789469, 0.84210526315789469, 0.84210526315789469, 0.82894736842105265]\n",
      "[array([42, 36], dtype=int32), array([36, 34], dtype=int32), array([34, 30], dtype=int32), array([32, 23], dtype=int32), array([29, 20], dtype=int32)]\n"
     ]
    }
   ],
   "source": [
    "print train_acc\n",
    "print test_acc\n",
    "print sup_vec"
   ]
  },
  {
   "cell_type": "code",
   "execution_count": 23,
   "metadata": {
    "collapsed": true
   },
   "outputs": [],
   "source": [
    "#  class sklearn.svm.SVC(C=1.0, kernel='rbf', degree=3, gamma='auto', \n",
    "#                        coef0=0.0, shrinking=True, probability=False, tol=0.001, \n",
    "#                        cache_size=200, class_weight=None, verbose=False, max_iter=-1, \n",
    "#                        decision_function_shape=None, random_state=None)[source]\n",
    "\n",
    "C_vals = [0.25, 0.5, 1, 2, 4]\n",
    "Gamma_vals = [0.25, 0.5, 1, 2, 4]\n",
    "train_acc = []\n",
    "test_acc = []\n",
    "sup_vec = []\n",
    "for C in C_vals:\n",
    "    for G in Gamma_vals:\n",
    "        clf = SVC(C=C,kernel='rbf', gamma = G)\n",
    "        clf.fit(X_train, y_train)\n",
    "        y_pred = clf.predict(X_train)\n",
    "        tr_acc = accuracy_score(y_train,y_pred)\n",
    "        train_acc.append(tr_acc)\n",
    "\n",
    "        y_pred = clf.predict(X_test)\n",
    "        te_acc = accuracy_score(y_test,y_pred)\n",
    "        test_acc.append(te_acc)\n",
    "        sup_vec.append(clf.n_support_ )"
   ]
  },
  {
   "cell_type": "code",
   "execution_count": 26,
   "metadata": {
    "collapsed": false
   },
   "outputs": [
    {
     "data": {
      "text/plain": [
       "[0.92105263157894735,\n",
       " 0.93421052631578949,\n",
       " 0.69736842105263153,\n",
       " 0.67105263157894735,\n",
       " 0.67105263157894735,\n",
       " 0.93421052631578949,\n",
       " 0.88157894736842102,\n",
       " 0.86842105263157898,\n",
       " 0.69736842105263153,\n",
       " 0.69736842105263153,\n",
       " 0.93421052631578949,\n",
       " 0.92105263157894735,\n",
       " 0.86842105263157898,\n",
       " 0.84210526315789469,\n",
       " 0.69736842105263153,\n",
       " 0.93421052631578949,\n",
       " 0.92105263157894735,\n",
       " 0.88157894736842102,\n",
       " 0.85526315789473684,\n",
       " 0.69736842105263153,\n",
       " 0.93421052631578949,\n",
       " 0.92105263157894735,\n",
       " 0.88157894736842102,\n",
       " 0.84210526315789469,\n",
       " 0.69736842105263153]"
      ]
     },
     "execution_count": 26,
     "metadata": {},
     "output_type": "execute_result"
    }
   ],
   "source": [
    "test_acc"
   ]
  }
 ],
 "metadata": {
  "kernelspec": {
   "display_name": "Python [Root]",
   "language": "python",
   "name": "Python [Root]"
  },
  "language_info": {
   "codemirror_mode": {
    "name": "ipython",
    "version": 2
   },
   "file_extension": ".py",
   "mimetype": "text/x-python",
   "name": "python",
   "nbconvert_exporter": "python",
   "pygments_lexer": "ipython2",
   "version": "2.7.12"
  }
 },
 "nbformat": 4,
 "nbformat_minor": 0
}
